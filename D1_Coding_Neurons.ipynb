{
 "cells": [
  {
   "cell_type": "markdown",
   "id": "40adf4b9",
   "metadata": {},
   "source": [
    "Creating a Single neuron with 3 inputs "
   ]
  },
  {
   "cell_type": "code",
   "execution_count": 1,
   "id": "012e25b6",
   "metadata": {},
   "outputs": [],
   "source": [
    "inputs = [1,2,3]\n",
    "weights = [0.2,0.4,0.5]\n",
    "bias = 2"
   ]
  },
  {
   "cell_type": "code",
   "execution_count": 2,
   "id": "0b324562",
   "metadata": {},
   "outputs": [
    {
     "data": {
      "text/plain": [
       "4.5"
      ]
     },
     "execution_count": 2,
     "metadata": {},
     "output_type": "execute_result"
    }
   ],
   "source": [
    "output = (inputs[0] * weights[0] + \n",
    "          inputs[1] * weights[1] + \n",
    "          inputs[2] * weights[2] + \n",
    "          bias)\n",
    "output"
   ]
  },
  {
   "cell_type": "markdown",
   "id": "2a61348d",
   "metadata": {},
   "source": [
    "Creating a layer of neurons (Hard Coded)"
   ]
  },
  {
   "cell_type": "code",
   "execution_count": 3,
   "id": "0828546f",
   "metadata": {},
   "outputs": [
    {
     "data": {
      "text/plain": [
       "[4.8, 1.21, 2.385]"
      ]
     },
     "execution_count": 3,
     "metadata": {},
     "output_type": "execute_result"
    }
   ],
   "source": [
    "inputs = [1,2,3,2.5]\n",
    "weights1 = [0.2,0.8,-0.5,1]\n",
    "weights2 = [0.5, -0.91, 0.26, -0.5]\n",
    "weights3 = [-0.26, -0.27, 0.17, 0.87]\n",
    "\n",
    "bias1 = 2\n",
    "bias2 = 3\n",
    "bias3 = 0.5\n",
    "\n",
    "outputs = [\n",
    "    # neuron 1\n",
    "    inputs[0] * weights1[0] +\n",
    "    inputs[1] * weights1[1] +\n",
    "    inputs[2] * weights1[2] +\n",
    "    inputs[3] * weights1[3] +\n",
    "    bias1,\n",
    "    \n",
    "    # neuron 1\n",
    "    inputs[0] * weights2[0] +\n",
    "    inputs[1] * weights2[1] +\n",
    "    inputs[2] * weights2[2] +\n",
    "    inputs[3] * weights2[3] +\n",
    "    bias2,\n",
    "    \n",
    "    # neuron 1\n",
    "    inputs[0] * weights3[0] +\n",
    "    inputs[1] * weights3[1] +\n",
    "    inputs[2] * weights3[2] +\n",
    "    inputs[3] * weights3[3] +\n",
    "    bias3\n",
    "]\n",
    "\n",
    "outputs"
   ]
  },
  {
   "cell_type": "markdown",
   "id": "8795b2f4",
   "metadata": {},
   "source": [
    "Creating a layer of neurons (Dynamically using loops)\n",
    "\n",
    "We can scale up or down this block of code as per our requirements easily."
   ]
  },
  {
   "cell_type": "code",
   "execution_count": 4,
   "id": "a43a22e9",
   "metadata": {},
   "outputs": [
    {
     "name": "stdout",
     "output_type": "stream",
     "text": [
      "[4.8, 1.21, 2.385]\n"
     ]
    }
   ],
   "source": [
    "inputs = [1,2,3,2.5]\n",
    "weights = [[0.2, 0.8, -0.5, 1],\n",
    "           [0.5, -0.91, 0.26, -0.5],\n",
    "           [-0.26, -0.27, 0.17, 0.87]]\n",
    "biases = [2, 3, 0.5]\n",
    "\n",
    "layer_outputs = []\n",
    "\n",
    "for neuron_weights, neuron_bias in zip(weights,biases):\n",
    "    \n",
    "    neuron_output = 0\n",
    "    \n",
    "    for n_input,weight in zip(inputs,neuron_weights):\n",
    "        neuron_output += n_input * weight\n",
    "    \n",
    "    neuron_output += neuron_bias\n",
    "    #print(neuron_output)\n",
    "    \n",
    "    layer_outputs.append(neuron_output)\n",
    "\n",
    "print(layer_outputs)"
   ]
  },
  {
   "cell_type": "markdown",
   "id": "691ebb9c",
   "metadata": {},
   "source": [
    "The <b>zip()</b> function returns a zip object, which is an iterator of tuples where the first item in each passed iterator is paired together, and then the second item in each passed iterator are paired together etc.\n",
    "\n",
    "If the passed iterators have different lengths, the iterator with the least items decides the length of the new iterator.\n",
    "\n",
    "<b style = \"color:orange\">In simpler words</b> : Zip funtions first create tuples then an iterator goes through that tuple."
   ]
  },
  {
   "cell_type": "code",
   "execution_count": 5,
   "id": "fc788545",
   "metadata": {},
   "outputs": [
    {
     "name": "stdout",
     "output_type": "stream",
     "text": [
      "(([0.2, 0.8, -0.5, 1], 2), ([0.5, -0.91, 0.26, -0.5], 3), ([-0.26, -0.27, 0.17, 0.87], 0.5))\n"
     ]
    }
   ],
   "source": [
    "x = zip(weights,biases)\n",
    "print(tuple(x))"
   ]
  },
  {
   "cell_type": "markdown",
   "id": "659e9dd2",
   "metadata": {},
   "source": [
    "- row dimension - also called the second dimension\n",
    "- column dimension - also called the first dimension"
   ]
  },
  {
   "cell_type": "code",
   "execution_count": 6,
   "id": "5f02d551",
   "metadata": {},
   "outputs": [
    {
     "data": {
      "text/plain": [
       "[[1, 2, 3], [1, 2]]"
      ]
     },
     "execution_count": 6,
     "metadata": {},
     "output_type": "execute_result"
    }
   ],
   "source": [
    "\"\"\"\n",
    "The above list of lists cannot be an array because it is not homologous.\n",
    "\"\"\"\n",
    "l=[[1,2,3],\n",
    "   [1,2]]\n",
    "\n",
    "l"
   ]
  },
  {
   "cell_type": "markdown",
   "id": "6b056f27",
   "metadata": {},
   "source": [
    "A tensor object is an object that can be represented as an array."
   ]
  },
  {
   "cell_type": "code",
   "execution_count": 7,
   "id": "1c4e9ce0",
   "metadata": {},
   "outputs": [
    {
     "data": {
      "text/plain": [
       "[[1, 2], [2, 3], [4, 1]]"
      ]
     },
     "execution_count": 7,
     "metadata": {},
     "output_type": "execute_result"
    }
   ],
   "source": [
    "tensor = [[1,2],\n",
    "          [2,3],\n",
    "          [4,1]]\n",
    "tensor"
   ]
  },
  {
   "cell_type": "markdown",
   "id": "69f7525f",
   "metadata": {},
   "source": [
    "A single neuron with Numpy"
   ]
  },
  {
   "cell_type": "code",
   "execution_count": 8,
   "id": "168f5ed5",
   "metadata": {},
   "outputs": [
    {
     "data": {
      "text/plain": [
       "4.8"
      ]
     },
     "execution_count": 8,
     "metadata": {},
     "output_type": "execute_result"
    }
   ],
   "source": [
    "import numpy as np\n",
    "\n",
    "inputs = [1.0,2.0,3.0,2.5]\n",
    "weights = [0.2,0.8,-0.5,1.0]\n",
    "bias = 2.0\n",
    "\n",
    "outputs = np.dot(weights,inputs) + bias\n",
    "outputs"
   ]
  },
  {
   "cell_type": "markdown",
   "id": "3501044d",
   "metadata": {},
   "source": [
    "A layer of neurons with Numpy"
   ]
  },
  {
   "cell_type": "code",
   "execution_count": 9,
   "id": "15fb08b6",
   "metadata": {},
   "outputs": [
    {
     "name": "stdout",
     "output_type": "stream",
     "text": [
      "[4.8   1.21  2.385]\n"
     ]
    }
   ],
   "source": [
    "inputs = [1.0, 2.0, 3.0, 2.5]\n",
    "weights = [[0.2, 0.8, -0.5, 1],\n",
    "           [0.5, -0.91, 0.26, -0.5],\n",
    "           [-0.26, -0.27, 0.17, 0.87]]\n",
    "biases = [2.0, 3.0, 0.5]\n",
    "\n",
    "layer_outputs = np.dot(weights,inputs) + biases\n",
    "print(layer_outputs)"
   ]
  },
  {
   "cell_type": "code",
   "execution_count": 10,
   "id": "6347397b",
   "metadata": {},
   "outputs": [
    {
     "data": {
      "text/plain": [
       "(4,)"
      ]
     },
     "execution_count": 10,
     "metadata": {},
     "output_type": "execute_result"
    }
   ],
   "source": [
    "np.array(inputs).shape"
   ]
  },
  {
   "cell_type": "markdown",
   "id": "5e812bbb",
   "metadata": {},
   "source": [
    "- <b>Matrix product on vectors</b> using row and column vectors\n",
    "\n",
    "A dot product of two vectors equals a matrix product of\n",
    "a row and column vector. A row vector is a matrix with 1 row whereas A column vector is a matrix with 1 column.\n",
    "\n",
    "NumPy does not have a dedicated method for performing matrix product — the dot product and matrix product are both implemented in a single method: <b>np.dot()</b>"
   ]
  },
  {
   "cell_type": "code",
   "execution_count": 21,
   "id": "34b9f74e",
   "metadata": {},
   "outputs": [
    {
     "name": "stdout",
     "output_type": "stream",
     "text": [
      "[[20]]\n",
      "(1, 1)\n"
     ]
    }
   ],
   "source": [
    "a = [1, 2, 3]\n",
    "b = [2, 3, 4]\n",
    "\n",
    "\"\"\"\n",
    "If you don't want to use an extra bracket inside np.array(), you can use np.expand_dims(np.array(array_name), axis= axis_value)\n",
    "Where np.expand_dims() adds a new dimension at the index of the axis.\n",
    "\"\"\"\n",
    "\n",
    "#a = np.expand_dims(np.array(a), axis = 0)   #Creating a row vector (1 x n)\n",
    "\n",
    "a = np.array([a])     #Creating a row vector (1 x n)\n",
    "b = np.array([b]).T   #Creating a column vector (n x 1)\n",
    "\n",
    "print(np.dot(a,b))\n",
    "print(np.dot(a,b).shape)"
   ]
  },
  {
   "cell_type": "markdown",
   "id": "9f287430",
   "metadata": {},
   "source": [
    "- Matrix Product on Matrices\n",
    "\n",
    "It takes all of the combinations of rows from the left matrix and columns from the right matrix, performing the dot product on them and placing the results in an output array."
   ]
  },
  {
   "cell_type": "code",
   "execution_count": 24,
   "id": "2a710d4d",
   "metadata": {},
   "outputs": [
    {
     "data": {
      "text/plain": [
       "array([[ 4.8  ,  1.21 ,  2.385],\n",
       "       [ 8.9  , -1.81 ,  0.2  ],\n",
       "       [ 1.41 ,  1.051,  0.026]])"
      ]
     },
     "execution_count": 24,
     "metadata": {},
     "output_type": "execute_result"
    }
   ],
   "source": [
    "\"\"\"\n",
    "It’s more useful to have a result consisting of a list of \"layer outputs\" per each sample. This is why we didn't retain the \n",
    "order of weigts first and then inputs. This resultant matrix will be used as the inputs for next layer neurons.\n",
    "\"\"\"\n",
    "\n",
    "inputs = [[1.0, 2.0, 3.0, 2.5],\n",
    "          [2.0, 5.0, -1.0, 2.0],\n",
    "          [-1.5, 2.7, 3.3, -0.8]]\n",
    "weights = [[0.2, 0.8, -0.5, 1.0],\n",
    "          [0.5, -0.91, 0.26, -0.5],\n",
    "          [-0.26, -0.27, 0.17, 0.87]]\n",
    "biases = [2.0, 3.0, 0.5]\n",
    "\n",
    "layer_outputs = np.dot(inputs,np.array(weights).T) + biases\n",
    "layer_outputs"
   ]
  },
  {
   "cell_type": "code",
   "execution_count": null,
   "id": "17d3bf51",
   "metadata": {},
   "outputs": [],
   "source": []
  }
 ],
 "metadata": {
  "kernelspec": {
   "display_name": "Python 3 (ipykernel)",
   "language": "python",
   "name": "python3"
  },
  "language_info": {
   "codemirror_mode": {
    "name": "ipython",
    "version": 3
   },
   "file_extension": ".py",
   "mimetype": "text/x-python",
   "name": "python",
   "nbconvert_exporter": "python",
   "pygments_lexer": "ipython3",
   "version": "3.9.12"
  }
 },
 "nbformat": 4,
 "nbformat_minor": 5
}
